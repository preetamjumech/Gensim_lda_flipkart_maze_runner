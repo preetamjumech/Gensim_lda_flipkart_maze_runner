{
 "cells": [
  {
   "cell_type": "code",
   "execution_count": 1,
   "id": "556ed00c",
   "metadata": {},
   "outputs": [],
   "source": [
    "import pandas as pd\n",
    "import gensim"
   ]
  },
  {
   "cell_type": "code",
   "execution_count": 5,
   "id": "3ebad6a5",
   "metadata": {},
   "outputs": [
    {
     "data": {
      "text/html": [
       "<div>\n",
       "<style scoped>\n",
       "    .dataframe tbody tr th:only-of-type {\n",
       "        vertical-align: middle;\n",
       "    }\n",
       "\n",
       "    .dataframe tbody tr th {\n",
       "        vertical-align: top;\n",
       "    }\n",
       "\n",
       "    .dataframe thead th {\n",
       "        text-align: right;\n",
       "    }\n",
       "</style>\n",
       "<table border=\"1\" class=\"dataframe\">\n",
       "  <thead>\n",
       "    <tr style=\"text-align: right;\">\n",
       "      <th></th>\n",
       "      <th>review</th>\n",
       "      <th>rating</th>\n",
       "    </tr>\n",
       "  </thead>\n",
       "  <tbody>\n",
       "    <tr>\n",
       "      <th>0</th>\n",
       "      <td>It was nice produt. I like it's design a lot. ...</td>\n",
       "      <td>5</td>\n",
       "    </tr>\n",
       "    <tr>\n",
       "      <th>1</th>\n",
       "      <td>awesome sound....very pretty to see this nd th...</td>\n",
       "      <td>5</td>\n",
       "    </tr>\n",
       "    <tr>\n",
       "      <th>2</th>\n",
       "      <td>awesome sound quality. pros 7-8 hrs of battery...</td>\n",
       "      <td>4</td>\n",
       "    </tr>\n",
       "    <tr>\n",
       "      <th>3</th>\n",
       "      <td>I think it is such a good product not only as ...</td>\n",
       "      <td>5</td>\n",
       "    </tr>\n",
       "    <tr>\n",
       "      <th>4</th>\n",
       "      <td>awesome bass sound quality very good bettary l...</td>\n",
       "      <td>5</td>\n",
       "    </tr>\n",
       "  </tbody>\n",
       "</table>\n",
       "</div>"
      ],
      "text/plain": [
       "                                              review  rating\n",
       "0  It was nice produt. I like it's design a lot. ...       5\n",
       "1  awesome sound....very pretty to see this nd th...       5\n",
       "2  awesome sound quality. pros 7-8 hrs of battery...       4\n",
       "3  I think it is such a good product not only as ...       5\n",
       "4  awesome bass sound quality very good bettary l...       5"
      ]
     },
     "execution_count": 5,
     "metadata": {},
     "output_type": "execute_result"
    }
   ],
   "source": [
    "dataset = pd.read_csv(\"flipkart review.csv\")\n",
    "dataset.head()"
   ]
  },
  {
   "cell_type": "code",
   "execution_count": 6,
   "id": "7750d356",
   "metadata": {},
   "outputs": [],
   "source": [
    "review_text = dataset.review.apply(gensim.utils.simple_preprocess)"
   ]
  },
  {
   "cell_type": "code",
   "execution_count": 7,
   "id": "3dda6a77",
   "metadata": {},
   "outputs": [
    {
     "data": {
      "text/plain": [
       "['it',\n",
       " 'was',\n",
       " 'nice',\n",
       " 'produt',\n",
       " 'like',\n",
       " 'it',\n",
       " 'design',\n",
       " 'lot',\n",
       " 'it',\n",
       " 'easy',\n",
       " 'to',\n",
       " 'carry',\n",
       " 'and',\n",
       " 'looked',\n",
       " 'stylish',\n",
       " 'read',\n",
       " 'more']"
      ]
     },
     "execution_count": 7,
     "metadata": {},
     "output_type": "execute_result"
    }
   ],
   "source": [
    "review_text[0]"
   ]
  },
  {
   "cell_type": "code",
   "execution_count": 18,
   "id": "a4add22b",
   "metadata": {},
   "outputs": [
    {
     "data": {
      "text/plain": [
       "['superb',\n",
       " 'sound',\n",
       " 'quality',\n",
       " 'good',\n",
       " 'design',\n",
       " 'very',\n",
       " 'comfortable',\n",
       " 'and',\n",
       " 'good',\n",
       " 'bettary',\n",
       " 'life',\n",
       " 'overall',\n",
       " 'amazing',\n",
       " 'product',\n",
       " 'from',\n",
       " 'boat',\n",
       " 'read',\n",
       " 'more']"
      ]
     },
     "execution_count": 18,
     "metadata": {},
     "output_type": "execute_result"
    }
   ],
   "source": [
    "review_text[20]"
   ]
  },
  {
   "cell_type": "code",
   "execution_count": 8,
   "id": "14c95b59",
   "metadata": {},
   "outputs": [],
   "source": [
    "model = gensim.models.Word2Vec(window=6,min_count=2,workers=4)"
   ]
  },
  {
   "cell_type": "code",
   "execution_count": 9,
   "id": "4e7577c4",
   "metadata": {},
   "outputs": [],
   "source": [
    "model.build_vocab(review_text,progress_per=1000)"
   ]
  },
  {
   "cell_type": "code",
   "execution_count": 10,
   "id": "00594045",
   "metadata": {},
   "outputs": [
    {
     "data": {
      "text/plain": [
       "9976"
      ]
     },
     "execution_count": 10,
     "metadata": {},
     "output_type": "execute_result"
    }
   ],
   "source": [
    "model.corpus_count"
   ]
  },
  {
   "cell_type": "code",
   "execution_count": 11,
   "id": "cec9a958",
   "metadata": {},
   "outputs": [
    {
     "data": {
      "text/plain": [
       "5"
      ]
     },
     "execution_count": 11,
     "metadata": {},
     "output_type": "execute_result"
    }
   ],
   "source": [
    "model.epochs"
   ]
  },
  {
   "cell_type": "code",
   "execution_count": 12,
   "id": "51aedbca",
   "metadata": {},
   "outputs": [
    {
     "data": {
      "text/plain": [
       "(506985, 819965)"
      ]
     },
     "execution_count": 12,
     "metadata": {},
     "output_type": "execute_result"
    }
   ],
   "source": [
    "model.train(review_text,total_examples=model.corpus_count,epochs=model.epochs)"
   ]
  },
  {
   "cell_type": "code",
   "execution_count": 13,
   "id": "876e51ec",
   "metadata": {},
   "outputs": [],
   "source": [
    "model.save(\"flipkart_review.model\")"
   ]
  },
  {
   "cell_type": "code",
   "execution_count": 14,
   "id": "7323496c",
   "metadata": {},
   "outputs": [
    {
     "data": {
      "text/plain": [
       "[('material', 0.9664357900619507),\n",
       " ('disturbing', 0.9660714864730835),\n",
       " ('fitting', 0.9646470546722412),\n",
       " ('except', 0.9644694924354553),\n",
       " ('adjustable', 0.9643774032592773),\n",
       " ('noise', 0.9643477201461792),\n",
       " ('cons', 0.9641716480255127),\n",
       " ('microphone', 0.9636540412902832),\n",
       " ('well', 0.9628983736038208),\n",
       " ('smooth', 0.96209317445755)]"
      ]
     },
     "execution_count": 14,
     "metadata": {},
     "output_type": "execute_result"
    }
   ],
   "source": [
    "model.wv.most_similar(\"bad\")"
   ]
  },
  {
   "cell_type": "code",
   "execution_count": 15,
   "id": "47b75182",
   "metadata": {},
   "outputs": [
    {
     "data": {
      "text/plain": [
       "[('everything', 0.9181997179985046),\n",
       " ('average', 0.9136619567871094),\n",
       " ('built', 0.9108709096908569),\n",
       " ('high', 0.9100898504257202),\n",
       " ('build', 0.9031726717948914),\n",
       " ('design', 0.9028019905090332),\n",
       " ('great', 0.9009641408920288),\n",
       " ('clear', 0.8984502553939819),\n",
       " ('also', 0.8971973657608032),\n",
       " ('decent', 0.8948444724082947)]"
      ]
     },
     "execution_count": 15,
     "metadata": {},
     "output_type": "execute_result"
    }
   ],
   "source": [
    "model.wv.most_similar(\"good\")"
   ]
  },
  {
   "cell_type": "code",
   "execution_count": 19,
   "id": "78555d07",
   "metadata": {},
   "outputs": [
    {
     "data": {
      "text/plain": [
       "0.96839297"
      ]
     },
     "execution_count": 19,
     "metadata": {},
     "output_type": "execute_result"
    }
   ],
   "source": [
    "model.wv.similarity(\"superb\",\"amazing\")"
   ]
  },
  {
   "cell_type": "code",
   "execution_count": 20,
   "id": "5ef56ada",
   "metadata": {},
   "outputs": [
    {
     "data": {
      "text/plain": [
       "0.6639526"
      ]
     },
     "execution_count": 20,
     "metadata": {},
     "output_type": "execute_result"
    }
   ],
   "source": [
    "model.wv.similarity(\"product\",\"life\")"
   ]
  },
  {
   "cell_type": "code",
   "execution_count": null,
   "id": "12d21672",
   "metadata": {},
   "outputs": [],
   "source": []
  }
 ],
 "metadata": {
  "kernelspec": {
   "display_name": "Python 3",
   "language": "python",
   "name": "python3"
  },
  "language_info": {
   "codemirror_mode": {
    "name": "ipython",
    "version": 3
   },
   "file_extension": ".py",
   "mimetype": "text/x-python",
   "name": "python",
   "nbconvert_exporter": "python",
   "pygments_lexer": "ipython3",
   "version": "3.8.8"
  }
 },
 "nbformat": 4,
 "nbformat_minor": 5
}
